{
 "cells": [
  {
   "cell_type": "code",
   "execution_count": null,
   "metadata": {},
   "outputs": [],
   "source": [
    "import subprocess\n",
    "import os\n",
    "\n",
    "# 設定專案根目錄（根據實際路徑調整）\n",
    "# 獲取當前使用者的 home 目錄\n",
    "home_dir = os.path.expanduser(\"~\")  \n",
    "\n",
    "# 根據 home 目錄動態生成專案的完整路徑\n",
    "project_root = os.path.join(home_dir, \"spark_demo\")\n",
    "\n",
    "os.chdir(project_root)  # 切換到專案根目錄\n",
    "\n",
    "\n",
    "# 啟動 FastAPI 應用\n",
    "process = subprocess.Popen([\"uvicorn\", \"S_ML.worker.fast_api_demo:app\", \"--reload\"])\n",
    "\n",
    "# 確認服務是否啟動成功\n",
    "print(f\"{project_root} FastAPI 服務已經啟動，您可以訪問 http://127.0.0.1:8000\")\n",
    "\n",
    "# 在 Notebook 中繼續其他操作\n"
   ]
  },
  {
   "cell_type": "code",
   "execution_count": null,
   "metadata": {},
   "outputs": [],
   "source": [
    "import requests\n",
    "\n",
    "# 發送 GET 請求到 FastAPI 的 /predictions/ 端點\n",
    "response = requests.get(\"http://127.0.0.1:8000/predictions/\")\n",
    "print(response.json())  # 打印回傳的 JSON 數據\n"
   ]
  },
  {
   "cell_type": "code",
   "execution_count": null,
   "metadata": {},
   "outputs": [],
   "source": [
    "# 終止 FastAPI 服務\n",
    "process.terminate()  # 正常終止\n",
    "# process.kill()  # 強制終止\n",
    "print(\"FastAPI 服務已停止\")\n"
   ]
  }
 ],
 "metadata": {
  "kernelspec": {
   "display_name": "spark_env",
   "language": "python",
   "name": "python3"
  },
  "language_info": {
   "codemirror_mode": {
    "name": "ipython",
    "version": 3
   },
   "file_extension": ".py",
   "mimetype": "text/x-python",
   "name": "python",
   "nbconvert_exporter": "python",
   "pygments_lexer": "ipython3",
   "version": "3.11.0"
  }
 },
 "nbformat": 4,
 "nbformat_minor": 2
}
