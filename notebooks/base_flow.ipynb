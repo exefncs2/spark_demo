{
 "cells": [
  {
   "cell_type": "markdown",
   "metadata": {},
   "source": [
    "# 基本設置"
   ]
  },
  {
   "cell_type": "code",
   "execution_count": null,
   "metadata": {},
   "outputs": [],
   "source": [
    "import subprocess\n",
    "import os\n",
    "\n",
    "# 設定專案根目錄（根據實際路徑調整）\n",
    "# 獲取當前使用者的 home 目錄\n",
    "home_dir = os.path.expanduser(\"~\")\n",
    "\n",
    "# 根據 home 目錄動態生成專案的完整路徑\n",
    "project_root = os.path.join(home_dir, \"spark_demo\")\n",
    "\n",
    "os.chdir(project_root)  # 切換到專案根目錄\n",
    "\n"
   ]
  },
  {
   "cell_type": "markdown",
   "metadata": {},
   "source": [
    "# 執行 Python 腳本 test_001"
   ]
  },
  {
   "cell_type": "code",
   "execution_count": null,
   "metadata": {},
   "outputs": [],
   "source": [
    "\n",
    "# 執行 Python 腳本 test_001\n",
    "process = subprocess.Popen([\"python\", \"S_ML/jobs/test_001.py\"], stdout=subprocess.PIPE, stderr=subprocess.PIPE)\n",
    "\n",
    "# 等待腳本執行完畢\n",
    "stdout, stderr = process.communicate()\n",
    "\n",
    "# 如果有錯誤輸出，則顯示\n",
    "if process.returncode != 0:\n",
    "    print(f\"Error executing script: {stderr.decode('utf-8')}\")\n",
    "else:\n",
    "    print(f\"Script output: {stdout.decode('utf-8')}\")\n",
    "\n",
    "\n"
   ]
  },
  {
   "cell_type": "markdown",
   "metadata": {},
   "source": [
    "# 執行 Python 腳本 test_002"
   ]
  },
  {
   "cell_type": "code",
   "execution_count": null,
   "metadata": {},
   "outputs": [],
   "source": [
    "\n",
    "process = subprocess.Popen([\"python\", \"S_ML/worker/test002.py\"], stdout=subprocess.PIPE, stderr=subprocess.PIPE)\n",
    "\n",
    "# 等待腳本執行完畢\n",
    "stdout, stderr = process.communicate()\n",
    "\n",
    "# 如果有錯誤輸出，則顯示\n",
    "if process.returncode != 0:\n",
    "    print(f\"Error executing script: {stderr.decode('utf-8')}\")\n",
    "else:\n",
    "    print(f\"Script output: {stdout.decode('utf-8')}\")\n",
    "\n",
    "\n"
   ]
  }
 ],
 "metadata": {
  "kernelspec": {
   "display_name": "spark_env",
   "language": "python",
   "name": "python3"
  },
  "language_info": {
   "codemirror_mode": {
    "name": "ipython",
    "version": 3
   },
   "file_extension": ".py",
   "mimetype": "text/x-python",
   "name": "python",
   "nbconvert_exporter": "python",
   "pygments_lexer": "ipython3",
   "version": "3.11.0"
  }
 },
 "nbformat": 4,
 "nbformat_minor": 2
}
